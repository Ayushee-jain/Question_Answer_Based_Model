{
  "nbformat": 4,
  "nbformat_minor": 0,
  "metadata": {
    "colab": {
      "name": "Question_Answer_based_model.ipynb",
      "provenance": []
    },
    "kernelspec": {
      "name": "python3",
      "display_name": "Python 3"
    },
    "language_info": {
      "name": "python"
    }
  },
  "cells": [
    {
      "cell_type": "code",
      "metadata": {
        "id": "Ob1r5AhS2Dh9"
      },
      "source": [
        "import pandas as pd\n",
        "import numpy as np"
      ],
      "execution_count": 1,
      "outputs": []
    },
    {
      "cell_type": "code",
      "metadata": {
        "id": "tHGM0g9B3ITS"
      },
      "source": [
        "data=pd.DataFrame({'Question':[\"What is the helpline number?\",\"What happened in Uttarakhand?\",\"How many people are affected?\",\"Which districts are the most flooded regions in uttarakhand?\",\"In which district the glacier burst first?\",\"Which mountian glacier broke off?\"],'Answer':[\"1070 or 9557444486\",\"glacier broke in\",\"Around 100 to 200\",\"Chamoli, Haridwar, Nainital, Pithoragarh, and Uttarkashi\",\"Chamoli\",\"A portion of Nanda Devi\"]})"
      ],
      "execution_count": 3,
      "outputs": []
    },
    {
      "cell_type": "code",
      "metadata": {
        "colab": {
          "base_uri": "https://localhost:8080/",
          "height": 225
        },
        "id": "pTNJyYse7ZeF",
        "outputId": "0acb5e8f-e619-47c9-dfb1-5e23e1ee50bb"
      },
      "source": [
        "data"
      ],
      "execution_count": 4,
      "outputs": [
        {
          "output_type": "execute_result",
          "data": {
            "text/html": [
              "<div>\n",
              "<style scoped>\n",
              "    .dataframe tbody tr th:only-of-type {\n",
              "        vertical-align: middle;\n",
              "    }\n",
              "\n",
              "    .dataframe tbody tr th {\n",
              "        vertical-align: top;\n",
              "    }\n",
              "\n",
              "    .dataframe thead th {\n",
              "        text-align: right;\n",
              "    }\n",
              "</style>\n",
              "<table border=\"1\" class=\"dataframe\">\n",
              "  <thead>\n",
              "    <tr style=\"text-align: right;\">\n",
              "      <th></th>\n",
              "      <th>Question</th>\n",
              "      <th>Answer</th>\n",
              "    </tr>\n",
              "  </thead>\n",
              "  <tbody>\n",
              "    <tr>\n",
              "      <th>0</th>\n",
              "      <td>What is the helpline number?</td>\n",
              "      <td>1070 or 9557444486</td>\n",
              "    </tr>\n",
              "    <tr>\n",
              "      <th>1</th>\n",
              "      <td>What happened in Uttarakhand?</td>\n",
              "      <td>glacier broke in</td>\n",
              "    </tr>\n",
              "    <tr>\n",
              "      <th>2</th>\n",
              "      <td>How many people are affected?</td>\n",
              "      <td>Around 100 to 200</td>\n",
              "    </tr>\n",
              "    <tr>\n",
              "      <th>3</th>\n",
              "      <td>Which districts are the most flooded regions i...</td>\n",
              "      <td>Chamoli, Haridwar, Nainital, Pithoragarh, and ...</td>\n",
              "    </tr>\n",
              "    <tr>\n",
              "      <th>4</th>\n",
              "      <td>In which district the glacier burst first?</td>\n",
              "      <td>Chamoli</td>\n",
              "    </tr>\n",
              "    <tr>\n",
              "      <th>5</th>\n",
              "      <td>Which mountian glacier broke off?</td>\n",
              "      <td>A portion of Nanda Devi</td>\n",
              "    </tr>\n",
              "  </tbody>\n",
              "</table>\n",
              "</div>"
            ],
            "text/plain": [
              "                                            Question                                             Answer\n",
              "0                       What is the helpline number?                                 1070 or 9557444486\n",
              "1                      What happened in Uttarakhand?                                   glacier broke in\n",
              "2                      How many people are affected?                                  Around 100 to 200\n",
              "3  Which districts are the most flooded regions i...  Chamoli, Haridwar, Nainital, Pithoragarh, and ...\n",
              "4         In which district the glacier burst first?                                            Chamoli\n",
              "5                  Which mountian glacier broke off?                            A portion of Nanda Devi"
            ]
          },
          "metadata": {
            "tags": []
          },
          "execution_count": 4
        }
      ]
    },
    {
      "cell_type": "code",
      "metadata": {
        "id": "YCofkjDY7y79"
      },
      "source": [
        "def getResults(questions, fn):\n",
        "    def getResult(q):\n",
        "        answer, score, prediction = fn(q)\n",
        "        return [q, prediction, answer, score]\n",
        "    return pd.DataFrame(list(map(getResult, questions)), columns=[\"Q\", \"Prediction\", \"A\", \"Score\"])\n",
        "test_data = [\n",
        "    \"Can anyone tell what is the helpline number of Uttarakhand Government?\",\n",
        "    \"Can anyone tell what is the helpline number of Uttarakhand Government\",\n",
        "    \"Is something happened in Uttarakhand?\",\n",
        "    \"In which district the glacier burst first?\",\n",
        "    \"Extemely flooded regions are?\",\n",
        "    \"Where was glacier broke off\",\n",
        "]"
      ],
      "execution_count": 5,
      "outputs": []
    },
    {
      "cell_type": "code",
      "metadata": {
        "colab": {
          "base_uri": "https://localhost:8080/",
          "height": 225
        },
        "id": "LV0O-GCJ7b1y",
        "outputId": "e41e68c1-72e7-4f2c-fad7-4a8ab87c7b50"
      },
      "source": [
        "import re\n",
        "def getNaiveAnswer(q):\n",
        "    row = data.loc[data['Question'].str.contains(re.sub(r\"[^\\w'\\s)]+\", \"\", q),case=False)]\n",
        "    if len(row) > 0:\n",
        "        return row[\"Answer\"].values[0], 1, row[\"Question\"].values[0]\n",
        "    return \"Sorry, I didn't get you.\", 0, \"\"\n",
        "getResults(test_data, getNaiveAnswer)"
      ],
      "execution_count": 6,
      "outputs": [
        {
          "output_type": "execute_result",
          "data": {
            "text/html": [
              "<div>\n",
              "<style scoped>\n",
              "    .dataframe tbody tr th:only-of-type {\n",
              "        vertical-align: middle;\n",
              "    }\n",
              "\n",
              "    .dataframe tbody tr th {\n",
              "        vertical-align: top;\n",
              "    }\n",
              "\n",
              "    .dataframe thead th {\n",
              "        text-align: right;\n",
              "    }\n",
              "</style>\n",
              "<table border=\"1\" class=\"dataframe\">\n",
              "  <thead>\n",
              "    <tr style=\"text-align: right;\">\n",
              "      <th></th>\n",
              "      <th>Q</th>\n",
              "      <th>Prediction</th>\n",
              "      <th>A</th>\n",
              "      <th>Score</th>\n",
              "    </tr>\n",
              "  </thead>\n",
              "  <tbody>\n",
              "    <tr>\n",
              "      <th>0</th>\n",
              "      <td>Can anyone tell what is the helpline number of...</td>\n",
              "      <td></td>\n",
              "      <td>Sorry, I didn't get you.</td>\n",
              "      <td>0</td>\n",
              "    </tr>\n",
              "    <tr>\n",
              "      <th>1</th>\n",
              "      <td>Can anyone tell what is the helpline number of...</td>\n",
              "      <td></td>\n",
              "      <td>Sorry, I didn't get you.</td>\n",
              "      <td>0</td>\n",
              "    </tr>\n",
              "    <tr>\n",
              "      <th>2</th>\n",
              "      <td>Is something happened in Uttarakhand?</td>\n",
              "      <td></td>\n",
              "      <td>Sorry, I didn't get you.</td>\n",
              "      <td>0</td>\n",
              "    </tr>\n",
              "    <tr>\n",
              "      <th>3</th>\n",
              "      <td>In which district the glacier burst first?</td>\n",
              "      <td>In which district the glacier burst first?</td>\n",
              "      <td>Chamoli</td>\n",
              "      <td>1</td>\n",
              "    </tr>\n",
              "    <tr>\n",
              "      <th>4</th>\n",
              "      <td>Extemely flooded regions are?</td>\n",
              "      <td></td>\n",
              "      <td>Sorry, I didn't get you.</td>\n",
              "      <td>0</td>\n",
              "    </tr>\n",
              "    <tr>\n",
              "      <th>5</th>\n",
              "      <td>Where was glacier broke off</td>\n",
              "      <td></td>\n",
              "      <td>Sorry, I didn't get you.</td>\n",
              "      <td>0</td>\n",
              "    </tr>\n",
              "  </tbody>\n",
              "</table>\n",
              "</div>"
            ],
            "text/plain": [
              "                                                   Q  ... Score\n",
              "0  Can anyone tell what is the helpline number of...  ...     0\n",
              "1  Can anyone tell what is the helpline number of...  ...     0\n",
              "2              Is something happened in Uttarakhand?  ...     0\n",
              "3         In which district the glacier burst first?  ...     1\n",
              "4                      Extemely flooded regions are?  ...     0\n",
              "5                        Where was glacier broke off  ...     0\n",
              "\n",
              "[6 rows x 4 columns]"
            ]
          },
          "metadata": {
            "tags": []
          },
          "execution_count": 6
        }
      ]
    },
    {
      "cell_type": "code",
      "metadata": {
        "colab": {
          "base_uri": "https://localhost:8080/"
        },
        "id": "3FVszwU-KkTe",
        "outputId": "01f9217d-0e8b-4c4a-e1df-e1c690bebc55"
      },
      "source": [
        "pip install python-Levenshtein"
      ],
      "execution_count": 7,
      "outputs": [
        {
          "output_type": "stream",
          "text": [
            "Collecting python-Levenshtein\n",
            "\u001b[?25l  Downloading https://files.pythonhosted.org/packages/2a/dc/97f2b63ef0fa1fd78dcb7195aca577804f6b2b51e712516cc0e902a9a201/python-Levenshtein-0.12.2.tar.gz (50kB)\n",
            "\r\u001b[K     |██████▌                         | 10kB 10.7MB/s eta 0:00:01\r\u001b[K     |█████████████                   | 20kB 12.6MB/s eta 0:00:01\r\u001b[K     |███████████████████▌            | 30kB 6.9MB/s eta 0:00:01\r\u001b[K     |██████████████████████████      | 40kB 7.8MB/s eta 0:00:01\r\u001b[K     |████████████████████████████████| 51kB 3.4MB/s \n",
            "\u001b[?25hRequirement already satisfied: setuptools in /usr/local/lib/python3.7/dist-packages (from python-Levenshtein) (54.1.2)\n",
            "Building wheels for collected packages: python-Levenshtein\n",
            "  Building wheel for python-Levenshtein (setup.py) ... \u001b[?25l\u001b[?25hdone\n",
            "  Created wheel for python-Levenshtein: filename=python_Levenshtein-0.12.2-cp37-cp37m-linux_x86_64.whl size=149802 sha256=b77c3ef1aa73d48ba0eab93fc4ad35a32f4b5b5c07d9d36d435fd40b50bb675f\n",
            "  Stored in directory: /root/.cache/pip/wheels/b3/26/73/4b48503bac73f01cf18e52cd250947049a7f339e940c5df8fc\n",
            "Successfully built python-Levenshtein\n",
            "Installing collected packages: python-Levenshtein\n",
            "Successfully installed python-Levenshtein-0.12.2\n"
          ],
          "name": "stdout"
        }
      ]
    },
    {
      "cell_type": "code",
      "metadata": {
        "colab": {
          "base_uri": "https://localhost:8080/",
          "height": 225
        },
        "id": "yfZev-ULJ-qX",
        "outputId": "1fbbe3c6-e398-4cba-ac59-a45f9a791fb3"
      },
      "source": [
        "from Levenshtein import ratio\n",
        "def getApproximateAnswer(q):\n",
        "    max_score = 0\n",
        "    answer = \"\"\n",
        "    prediction = \"\"\n",
        "    for idx, row in data.iterrows():\n",
        "        score = ratio(row[\"Question\"], q)\n",
        "        if score >= 0.9:\n",
        "            return row[\"Answer\"], score, row[\"Question\"]\n",
        "        elif score > max_score:\n",
        "            max_score = score\n",
        "            answer = row[\"Answer\"]\n",
        "            prediction = row[\"Question\"]\n",
        "    if max_score > 0.8:\n",
        "        return answer, max_score, prediction\n",
        "    return \"Sorry, I didn't get you.\", max_score, prediction\n",
        "getResults(test_data, getApproximateAnswer)"
      ],
      "execution_count": 8,
      "outputs": [
        {
          "output_type": "execute_result",
          "data": {
            "text/html": [
              "<div>\n",
              "<style scoped>\n",
              "    .dataframe tbody tr th:only-of-type {\n",
              "        vertical-align: middle;\n",
              "    }\n",
              "\n",
              "    .dataframe tbody tr th {\n",
              "        vertical-align: top;\n",
              "    }\n",
              "\n",
              "    .dataframe thead th {\n",
              "        text-align: right;\n",
              "    }\n",
              "</style>\n",
              "<table border=\"1\" class=\"dataframe\">\n",
              "  <thead>\n",
              "    <tr style=\"text-align: right;\">\n",
              "      <th></th>\n",
              "      <th>Q</th>\n",
              "      <th>Prediction</th>\n",
              "      <th>A</th>\n",
              "      <th>Score</th>\n",
              "    </tr>\n",
              "  </thead>\n",
              "  <tbody>\n",
              "    <tr>\n",
              "      <th>0</th>\n",
              "      <td>Can anyone tell what is the helpline number of...</td>\n",
              "      <td>What is the helpline number?</td>\n",
              "      <td>Sorry, I didn't get you.</td>\n",
              "      <td>0.551020</td>\n",
              "    </tr>\n",
              "    <tr>\n",
              "      <th>1</th>\n",
              "      <td>Can anyone tell what is the helpline number of...</td>\n",
              "      <td>What is the helpline number?</td>\n",
              "      <td>Sorry, I didn't get you.</td>\n",
              "      <td>0.536082</td>\n",
              "    </tr>\n",
              "    <tr>\n",
              "      <th>2</th>\n",
              "      <td>Is something happened in Uttarakhand?</td>\n",
              "      <td>What happened in Uttarakhand?</td>\n",
              "      <td>Sorry, I didn't get you.</td>\n",
              "      <td>0.787879</td>\n",
              "    </tr>\n",
              "    <tr>\n",
              "      <th>3</th>\n",
              "      <td>In which district the glacier burst first?</td>\n",
              "      <td>In which district the glacier burst first?</td>\n",
              "      <td>Chamoli</td>\n",
              "      <td>1.000000</td>\n",
              "    </tr>\n",
              "    <tr>\n",
              "      <th>4</th>\n",
              "      <td>Extemely flooded regions are?</td>\n",
              "      <td>Which districts are the most flooded regions i...</td>\n",
              "      <td>Sorry, I didn't get you.</td>\n",
              "      <td>0.516854</td>\n",
              "    </tr>\n",
              "    <tr>\n",
              "      <th>5</th>\n",
              "      <td>Where was glacier broke off</td>\n",
              "      <td>Which mountian glacier broke off?</td>\n",
              "      <td>Sorry, I didn't get you.</td>\n",
              "      <td>0.733333</td>\n",
              "    </tr>\n",
              "  </tbody>\n",
              "</table>\n",
              "</div>"
            ],
            "text/plain": [
              "                                                   Q  ...     Score\n",
              "0  Can anyone tell what is the helpline number of...  ...  0.551020\n",
              "1  Can anyone tell what is the helpline number of...  ...  0.536082\n",
              "2              Is something happened in Uttarakhand?  ...  0.787879\n",
              "3         In which district the glacier burst first?  ...  1.000000\n",
              "4                      Extemely flooded regions are?  ...  0.516854\n",
              "5                        Where was glacier broke off  ...  0.733333\n",
              "\n",
              "[6 rows x 4 columns]"
            ]
          },
          "metadata": {
            "tags": []
          },
          "execution_count": 8
        }
      ]
    },
    {
      "cell_type": "code",
      "metadata": {
        "colab": {
          "base_uri": "https://localhost:8080/",
          "height": 225
        },
        "id": "SmxTiKmzKfG1",
        "outputId": "e8be8d6c-c5ed-4b41-c254-449015b57534"
      },
      "source": [
        "from Levenshtein import ratio\n",
        "def getApproximateAnswer2(q):\n",
        "    max_score = 0\n",
        "    answer = \"\"\n",
        "    prediction = \"\"\n",
        "    for idx, row in data.iterrows():\n",
        "        score = ratio(row[\"Question\"], q)\n",
        "        if score >= 0.9:\n",
        "            return row[\"Answer\"], score, row[\"Question\"]\n",
        "        elif score > max_score:\n",
        "            max_score = score\n",
        "            answer = row[\"Answer\"]\n",
        "            prediction = row[\"Question\"]\n",
        "    if max_score > 0.3:\n",
        "        return answer, max_score, prediction\n",
        "    return \"Sorry, I didn't get you.\", max_score, prediction\n",
        "getResults(test_data, getApproximateAnswer2)"
      ],
      "execution_count": 9,
      "outputs": [
        {
          "output_type": "execute_result",
          "data": {
            "text/html": [
              "<div>\n",
              "<style scoped>\n",
              "    .dataframe tbody tr th:only-of-type {\n",
              "        vertical-align: middle;\n",
              "    }\n",
              "\n",
              "    .dataframe tbody tr th {\n",
              "        vertical-align: top;\n",
              "    }\n",
              "\n",
              "    .dataframe thead th {\n",
              "        text-align: right;\n",
              "    }\n",
              "</style>\n",
              "<table border=\"1\" class=\"dataframe\">\n",
              "  <thead>\n",
              "    <tr style=\"text-align: right;\">\n",
              "      <th></th>\n",
              "      <th>Q</th>\n",
              "      <th>Prediction</th>\n",
              "      <th>A</th>\n",
              "      <th>Score</th>\n",
              "    </tr>\n",
              "  </thead>\n",
              "  <tbody>\n",
              "    <tr>\n",
              "      <th>0</th>\n",
              "      <td>Can anyone tell what is the helpline number of...</td>\n",
              "      <td>What is the helpline number?</td>\n",
              "      <td>1070 or 9557444486</td>\n",
              "      <td>0.551020</td>\n",
              "    </tr>\n",
              "    <tr>\n",
              "      <th>1</th>\n",
              "      <td>Can anyone tell what is the helpline number of...</td>\n",
              "      <td>What is the helpline number?</td>\n",
              "      <td>1070 or 9557444486</td>\n",
              "      <td>0.536082</td>\n",
              "    </tr>\n",
              "    <tr>\n",
              "      <th>2</th>\n",
              "      <td>Is something happened in Uttarakhand?</td>\n",
              "      <td>What happened in Uttarakhand?</td>\n",
              "      <td>glacier broke in</td>\n",
              "      <td>0.787879</td>\n",
              "    </tr>\n",
              "    <tr>\n",
              "      <th>3</th>\n",
              "      <td>In which district the glacier burst first?</td>\n",
              "      <td>In which district the glacier burst first?</td>\n",
              "      <td>Chamoli</td>\n",
              "      <td>1.000000</td>\n",
              "    </tr>\n",
              "    <tr>\n",
              "      <th>4</th>\n",
              "      <td>Extemely flooded regions are?</td>\n",
              "      <td>Which districts are the most flooded regions i...</td>\n",
              "      <td>Chamoli, Haridwar, Nainital, Pithoragarh, and ...</td>\n",
              "      <td>0.516854</td>\n",
              "    </tr>\n",
              "    <tr>\n",
              "      <th>5</th>\n",
              "      <td>Where was glacier broke off</td>\n",
              "      <td>Which mountian glacier broke off?</td>\n",
              "      <td>A portion of Nanda Devi</td>\n",
              "      <td>0.733333</td>\n",
              "    </tr>\n",
              "  </tbody>\n",
              "</table>\n",
              "</div>"
            ],
            "text/plain": [
              "                                                   Q  ...     Score\n",
              "0  Can anyone tell what is the helpline number of...  ...  0.551020\n",
              "1  Can anyone tell what is the helpline number of...  ...  0.536082\n",
              "2              Is something happened in Uttarakhand?  ...  0.787879\n",
              "3         In which district the glacier burst first?  ...  1.000000\n",
              "4                      Extemely flooded regions are?  ...  0.516854\n",
              "5                        Where was glacier broke off  ...  0.733333\n",
              "\n",
              "[6 rows x 4 columns]"
            ]
          },
          "metadata": {
            "tags": []
          },
          "execution_count": 9
        }
      ]
    },
    {
      "cell_type": "code",
      "metadata": {
        "colab": {
          "base_uri": "https://localhost:8080/"
        },
        "id": "MOGriv9xMmml",
        "outputId": "d5ef0586-4719-4973-9c90-84c2df17be16"
      },
      "source": [
        "ques=input()\n",
        "print(getResults([ques],getApproximateAnswer2)['A'][0])"
      ],
      "execution_count": 12,
      "outputs": [
        {
          "output_type": "stream",
          "text": [
            "How many people got injured?\n",
            "Around 100 to 200\n"
          ],
          "name": "stdout"
        }
      ]
    },
    {
      "cell_type": "code",
      "metadata": {
        "id": "e9FsMtNMM2jw"
      },
      "source": [
        ""
      ],
      "execution_count": null,
      "outputs": []
    }
  ]
}